{
 "cells": [
  {
   "cell_type": "code",
   "execution_count": 2,
   "id": "e116b38a",
   "metadata": {},
   "outputs": [],
   "source": [
    "import mysql.connector\n",
    "\n",
    "conn = mysql.connector.connect(host = \"localhost\",user = \"root\",passwd = '####')"
   ]
  },
  {
   "cell_type": "code",
   "execution_count": 5,
   "id": "10a7ffdd",
   "metadata": {},
   "outputs": [],
   "source": [
    "# cursor object\n",
    "\n",
    "cursor = conn.cursor()\n"
   ]
  },
  {
   "cell_type": "code",
   "execution_count": 6,
   "id": "d63653f9",
   "metadata": {},
   "outputs": [
    {
     "name": "stdout",
     "output_type": "stream",
     "text": [
      "('db1',)\n",
      "('db2',)\n",
      "('db3',)\n",
      "('db4',)\n",
      "('information_schema',)\n",
      "('mysql',)\n",
      "('performance_schema',)\n",
      "('sys',)\n"
     ]
    }
   ],
   "source": [
    "# show all databases\n",
    "\n",
    "cursor.execute('show databases')\n",
    "\n",
    "for i in cursor:\n",
    "    print(i)"
   ]
  },
  {
   "cell_type": "code",
   "execution_count": 16,
   "id": "0f5abc67",
   "metadata": {},
   "outputs": [],
   "source": [
    "## create database\n",
    "cursor.execute('create database if not exists pythondb2') ## if not exists to avoid if that db already exist"
   ]
  },
  {
   "cell_type": "code",
   "execution_count": 17,
   "id": "d57f919a",
   "metadata": {},
   "outputs": [
    {
     "name": "stdout",
     "output_type": "stream",
     "text": [
      "('db1',)\n",
      "('db2',)\n",
      "('db3',)\n",
      "('db4',)\n",
      "('information_schema',)\n",
      "('mysql',)\n",
      "('performance_schema',)\n",
      "('pythondb',)\n",
      "('pythondb2',)\n",
      "('sys',)\n"
     ]
    }
   ],
   "source": [
    "cursor.execute('show databases')\n",
    "for i in cursor:\n",
    "    print(i)"
   ]
  },
  {
   "cell_type": "code",
   "execution_count": 35,
   "id": "7d91b502",
   "metadata": {},
   "outputs": [],
   "source": [
    "# referencing the database directly while connecting\n",
    "\n",
    "conn = mysql.connector.connect(host = \"localhost\",user = \"root\",passwd = '####',database = 'pythondb2' )"
   ]
  },
  {
   "cell_type": "code",
   "execution_count": 36,
   "id": "a86876a5",
   "metadata": {},
   "outputs": [],
   "source": [
    "cursor = conn.cursor()"
   ]
  },
  {
   "cell_type": "code",
   "execution_count": 40,
   "id": "4d1e91a2",
   "metadata": {},
   "outputs": [],
   "source": [
    "# creating the table\n",
    "cursor.execute('create table if not exists student(roll_no int not null primary key,student_name varchar(20) not null,age int not null)')\n"
   ]
  },
  {
   "cell_type": "code",
   "execution_count": 39,
   "id": "147a4cfe",
   "metadata": {},
   "outputs": [],
   "source": [
    "# adding values to table -- one by one\n",
    "\n",
    "q = 'insert into student(roll_no,student_name,age) values(%s,%s,%s)'\n",
    "value = (503,'Raju',25)\n",
    "\n",
    "try:\n",
    "    cursor.execute(q,value)\n",
    "    conn.commit()    ## steps to make these changes\n",
    "except:\n",
    "    conn.rollback()\n"
   ]
  },
  {
   "cell_type": "code",
   "execution_count": 41,
   "id": "164d899e",
   "metadata": {},
   "outputs": [],
   "source": [
    "conn.close()"
   ]
  },
  {
   "cell_type": "code",
   "execution_count": null,
   "id": "c833fb06",
   "metadata": {},
   "outputs": [],
   "source": []
  },
  {
   "cell_type": "code",
   "execution_count": null,
   "id": "37638c63",
   "metadata": {},
   "outputs": [],
   "source": [
    "#########################################################################################"
   ]
  },
  {
   "cell_type": "code",
   "execution_count": 42,
   "id": "28bc93fe",
   "metadata": {},
   "outputs": [],
   "source": [
    "## adding multiple values to the table\n",
    "\n",
    "conn = mysql.connector.connect(host = \"localhost\",user = \"root\",passwd = '#####',database = 'pythondb2' )\n",
    "cursor = conn.cursor()"
   ]
  },
  {
   "cell_type": "code",
   "execution_count": 44,
   "id": "02ecb2cc",
   "metadata": {},
   "outputs": [],
   "source": [
    "q = 'insert into student(roll_no,student_name,age) values(%s,%s,%s)'\n",
    "values = [(504,'Ramu',20),(505,'Rajeev',27),(506,'lakshmi',23),(507,'sonam',27),(508,'jayaram',29),(509,'mammooty',30),(510,'Dq',28)]\n"
   ]
  },
  {
   "cell_type": "code",
   "execution_count": 45,
   "id": "cb868b73",
   "metadata": {},
   "outputs": [],
   "source": [
    "cursor.executemany(q,values)"
   ]
  },
  {
   "cell_type": "code",
   "execution_count": 46,
   "id": "7b5a3ba0",
   "metadata": {},
   "outputs": [],
   "source": [
    "conn.commit()"
   ]
  },
  {
   "cell_type": "code",
   "execution_count": 47,
   "id": "c57cf50a",
   "metadata": {},
   "outputs": [
    {
     "data": {
      "text/plain": [
       "[(501, 'Ak', 25),\n",
       " (502, 'Akhil', 28),\n",
       " (503, 'Raju', 25),\n",
       " (504, 'Ramu', 20),\n",
       " (505, 'Rajeev', 27),\n",
       " (506, 'lakshmi', 23),\n",
       " (507, 'sonam', 27),\n",
       " (508, 'jayaram', 29),\n",
       " (509, 'mammooty', 30),\n",
       " (510, 'Dq', 28)]"
      ]
     },
     "execution_count": 47,
     "metadata": {},
     "output_type": "execute_result"
    }
   ],
   "source": [
    "cursor.execute('select * from student')\n",
    "cursor.fetchall()"
   ]
  },
  {
   "cell_type": "code",
   "execution_count": 52,
   "id": "1443a434",
   "metadata": {},
   "outputs": [
    {
     "name": "stdout",
     "output_type": "stream",
     "text": [
      "10\n"
     ]
    }
   ],
   "source": [
    "print(cursor.rowcount)"
   ]
  },
  {
   "cell_type": "code",
   "execution_count": 48,
   "id": "a2f3828b",
   "metadata": {},
   "outputs": [],
   "source": [
    "##################################################################"
   ]
  },
  {
   "cell_type": "code",
   "execution_count": 53,
   "id": "163f6657",
   "metadata": {},
   "outputs": [],
   "source": [
    "# alter -- add new column,constraints(like primary key), delete column\n",
    "# alter table table-name add column-name datatype\n",
    "# eg : alter table student add section varchar(3) default 'A'\n",
    "\n",
    "# alter table table-name add primary key(rollno)\n",
    "\n",
    "# alter table table-name drop column column-name"
   ]
  },
  {
   "cell_type": "code",
   "execution_count": 54,
   "id": "0b64aef7",
   "metadata": {},
   "outputs": [],
   "source": [
    "# update table-name set column-name = value where condition\n",
    "#eg: update student set branch = 'ece' where rollno = 502\n",
    "\n"
   ]
  },
  {
   "cell_type": "code",
   "execution_count": 56,
   "id": "7759e3ba",
   "metadata": {},
   "outputs": [],
   "source": [
    "import mysql.connector\n",
    "conn = mysql.connector.connect(host='localhost',user='root',passwd='#####',database = 'pythondb2')\n",
    "\n",
    "cur = conn.cursor()\n",
    "cur.execute('alter table student add branch varchar(10) default \"cse\"')\n",
    "conn.commit()"
   ]
  },
  {
   "cell_type": "code",
   "execution_count": 57,
   "id": "52ae1619",
   "metadata": {},
   "outputs": [],
   "source": [
    "import mysql.connector\n",
    "conn = mysql.connector.connect(host='localhost',user='root',passwd='####',database = 'pythondb2')\n",
    "\n",
    "cur = conn.cursor()\n",
    "cur.execute('update student set branch =\"physics\" where student_name = \"Akhil\"')\n",
    "conn.commit()"
   ]
  },
  {
   "cell_type": "code",
   "execution_count": 58,
   "id": "8a81c887",
   "metadata": {},
   "outputs": [],
   "source": [
    "#####################################"
   ]
  },
  {
   "cell_type": "code",
   "execution_count": 59,
   "id": "fe0a919e",
   "metadata": {},
   "outputs": [],
   "source": [
    "## delete -- remove records of a table\n",
    "## drop -- removing complete table\n",
    "\n",
    "# delete from table table-name where condition\n",
    "# eg : delete from student where percentage < 90\n",
    "\n",
    "    # conn.commit --to make changes -- mandatory\n",
    "    \n",
    "# alter table table-name drop column column-name\n",
    "\n",
    "\n",
    "# drop table table-name"
   ]
  },
  {
   "cell_type": "code",
   "execution_count": 60,
   "id": "50b5ca8d",
   "metadata": {},
   "outputs": [],
   "source": [
    "##################################"
   ]
  },
  {
   "cell_type": "code",
   "execution_count": 61,
   "id": "02cadaa3",
   "metadata": {},
   "outputs": [],
   "source": [
    "import mysql.connector\n",
    "conn = mysql.connector.connect(host='localhost',user='root',passwd='#####',database = 'pythondb2')\n",
    "\n",
    "cur = conn.cursor()\n",
    "cur.execute('delete from student where student_name like \"m%\"')\n",
    "conn.commit()"
   ]
  },
  {
   "cell_type": "code",
   "execution_count": 62,
   "id": "839fdb65",
   "metadata": {},
   "outputs": [],
   "source": [
    "cur.execute('alter table student drop column branch')\n",
    "conn.commit()"
   ]
  },
  {
   "cell_type": "code",
   "execution_count": null,
   "id": "bdf5679f",
   "metadata": {},
   "outputs": [],
   "source": []
  }
 ],
 "metadata": {
  "kernelspec": {
   "display_name": "Python 3 (ipykernel)",
   "language": "python",
   "name": "python3"
  },
  "language_info": {
   "codemirror_mode": {
    "name": "ipython",
    "version": 3
   },
   "file_extension": ".py",
   "mimetype": "text/x-python",
   "name": "python",
   "nbconvert_exporter": "python",
   "pygments_lexer": "ipython3",
   "version": "3.9.13"
  }
 },
 "nbformat": 4,
 "nbformat_minor": 5
}
